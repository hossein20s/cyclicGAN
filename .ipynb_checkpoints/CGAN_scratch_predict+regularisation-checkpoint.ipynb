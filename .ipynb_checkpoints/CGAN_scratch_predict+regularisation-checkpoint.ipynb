{
 "cells": [
  {
   "cell_type": "markdown",
   "metadata": {
    "colab_type": "text",
    "id": "view-in-github"
   },
   "source": [
    "<a href=\"https://colab.research.google.com/github/ZahidFaiz/CSMRI_CyclicGANs/blob/master/CGAN_scratch_predict%2Bregularisation.ipynb\" target=\"_parent\"><img src=\"https://colab.research.google.com/assets/colab-badge.svg\" alt=\"Open In Colab\"/></a>"
   ]
  },
  {
   "cell_type": "code",
   "execution_count": null,
   "metadata": {
    "colab": {
     "base_uri": "https://localhost:8080/",
     "height": 350
    },
    "colab_type": "code",
    "id": "DcR9WN1lGzk_",
    "outputId": "bd6b502f-b99f-4900-d98b-f679eb546d43",
    "pycharm": {
     "is_executing": true
    }
   },
   "outputs": [],
   "source": [
    "!pip install git+https://www.github.com/keras-team/keras-contrib.git"
   ]
  },
  {
   "cell_type": "code",
   "execution_count": null,
   "metadata": {
    "colab": {
     "base_uri": "https://localhost:8080/",
     "height": 124
    },
    "colab_type": "code",
    "id": "nssMloLiHbaS",
    "outputId": "d5663b39-fa54-4723-b641-06fe4bab6ab9",
    "pycharm": {
     "is_executing": true
    }
   },
   "outputs": [],
   "source": [
    "# from google.colab import drive\n",
    "# drive.mount('/content/drive')"
   ]
  },
  {
   "cell_type": "code",
   "execution_count": null,
   "metadata": {
    "colab": {
     "base_uri": "https://localhost:8080/",
     "height": 156
    },
    "colab_type": "code",
    "id": "1X9Us-hGhCXX",
    "outputId": "f5dd4efe-87f8-40f2-af77-ec5ec7086d2c",
    "pycharm": {
     "is_executing": true
    }
   },
   "outputs": [],
   "source": [
    "!pip install gdown"
   ]
  },
  {
   "cell_type": "code",
   "execution_count": null,
   "metadata": {
    "colab": {},
    "colab_type": "code",
    "id": "Pux85OWzXiZy",
    "pycharm": {
     "is_executing": true
    }
   },
   "outputs": [],
   "source": [
    "import gdown"
   ]
  },
  {
   "cell_type": "code",
   "execution_count": null,
   "metadata": {
    "colab": {
     "base_uri": "https://localhost:8080/",
     "height": 295
    },
    "colab_type": "code",
    "id": "7xk9IHiHcUh_",
    "outputId": "61fd960d-f1ba-4dee-ba28-7fe258105f70",
    "pycharm": {
     "is_executing": true
    }
   },
   "outputs": [],
   "source": [
    "!gdown \"https://drive.google.com/uc?export=download&id=1-608mHVC0tZ4QMP3yC5Jt1z-PJjiiEpd\"\n",
    "!gdown \"https://drive.google.com/uc?export=download&id=1-ALbI3pKlN1ixLfhPutOoGy5tURr6Our\"\n",
    "!gdown \"https://drive.google.com/uc?export=download&id=1-EALCjFNl6dEyidVfvmwkvbsloN_OEAb\"\n",
    "!gdown \"https://drive.google.com/uc?export=download&id=1oZFg59nqNNKL_OpUaYBDyqPkRRk7z-VR\"\n"
   ]
  },
  {
   "cell_type": "code",
   "execution_count": null,
   "metadata": {
    "colab": {
     "base_uri": "https://localhost:8080/",
     "height": 86
    },
    "colab_type": "code",
    "id": "ld69yuIyfs8o",
    "outputId": "c57aedbb-eeeb-438d-e7d4-ccc48db60414",
    "pycharm": {
     "is_executing": true
    }
   },
   "outputs": [],
   "source": [
    "!gdown \"https://drive.google.com/uc?export=download&id=12YUtH-uHVwVnJ2ZaaqKASX0KDfbulM1U\""
   ]
  },
  {
   "cell_type": "code",
   "execution_count": null,
   "metadata": {
    "colab": {
     "base_uri": "https://localhost:8080/",
     "height": 885
    },
    "colab_type": "code",
    "id": "UO8gmoogfy5d",
    "outputId": "c4837a58-81c9-4da5-b5e5-07cccaa375f0",
    "pycharm": {
     "is_executing": true
    }
   },
   "outputs": [],
   "source": [
    "!unzip \"mask-20200526T100015Z-001.zip\""
   ]
  },
  {
   "cell_type": "code",
   "execution_count": null,
   "metadata": {
    "colab": {},
    "colab_type": "code",
    "id": "jGZHgHrNd8cp",
    "pycharm": {
     "is_executing": true
    }
   },
   "outputs": [],
   "source": [
    "!mkdir testdata"
   ]
  },
  {
   "cell_type": "code",
   "execution_count": null,
   "metadata": {
    "colab": {
     "base_uri": "https://localhost:8080/",
     "height": 34
    },
    "colab_type": "code",
    "id": "Ny6Xt8kseOlO",
    "outputId": "b57e06fe-49b2-4918-8330-175279fb94bd",
    "pycharm": {
     "is_executing": true
    }
   },
   "outputs": [],
   "source": [
    "!mv \"IXI023-Guys-0699-T1.nii.gz\" \"testdata\"\n",
    "!mv \"IXI035-IOP-0873-T1.nii.gz\" \"testdata\"\n",
    "!mv \"IXI058-Guys-0726-T1.nii.gz\" \"testdata\"\n"
   ]
  },
  {
   "cell_type": "code",
   "execution_count": null,
   "metadata": {
    "colab": {},
    "colab_type": "code",
    "id": "TX_gSY0XZbDR",
    "pycharm": {
     "is_executing": true
    }
   },
   "outputs": [],
   "source": []
  },
  {
   "cell_type": "code",
   "execution_count": null,
   "metadata": {
    "colab": {},
    "colab_type": "code",
    "id": "1bhWCiG2_H0l",
    "pycharm": {
     "is_executing": true
    }
   },
   "outputs": [],
   "source": [
    "# example of defining composite models for training cyclegan generators\n",
    "import keras\n",
    "from keras.optimizers import Adam\n",
    "from keras.models import Model\n",
    "from keras.models import Sequential\n",
    "from keras.models import Input\n",
    "from keras.layers import Conv2D\n",
    "from keras.layers import Conv2DTranspose, Add\n",
    "from keras.layers import Activation, BatchNormalization\n",
    "from keras.layers import LeakyReLU\n",
    "from keras.initializers import RandomNormal\n",
    "from keras.layers import Concatenate\n",
    "from keras_contrib.layers.normalization.instancenormalization import InstanceNormalization\n",
    "from keras.utils.vis_utils import plot_model\n",
    "import tensorflow as tf\n",
    "from keras.layers import Deconvolution2D\n",
    "from keras.losses import BinaryCrossentropy\n",
    "from keras.layers import Dropout"
   ]
  },
  {
   "cell_type": "code",
   "execution_count": null,
   "metadata": {
    "colab": {},
    "colab_type": "code",
    "id": "9MANdaFLH37k",
    "pycharm": {
     "is_executing": true
    }
   },
   "outputs": [],
   "source": [
    "# # #getting the testset 4.5gb\n",
    "# !wget http://biomedic.doc.ic.ac.uk/brain-development/downloads/IXI/IXI-T1.tar\n",
    "# import shutil\n",
    "# !mkdir test\n",
    "# shutil.unpack_archive('/content/IXI-T1.tar', '/content/test')"
   ]
  },
  {
   "cell_type": "code",
   "execution_count": null,
   "metadata": {
    "colab": {},
    "colab_type": "code",
    "id": "9rnwT1_CIdLV",
    "pycharm": {
     "is_executing": true
    }
   },
   "outputs": [],
   "source": [
    "import numpy as np\n",
    "import glob\n",
    "import matplotlib.pyplot as plt\n",
    "import time\n",
    "from IPython.display import clear_output\n",
    "import nibabel as nib"
   ]
  },
  {
   "cell_type": "code",
   "execution_count": null,
   "metadata": {
    "colab": {},
    "colab_type": "code",
    "id": "RKqFmCrGH7y0",
    "pycharm": {
     "is_executing": true
    }
   },
   "outputs": [],
   "source": [
    "masks = []\n",
    "for msk in glob.glob('/content/mask/*.tif'):\n",
    "  temp = plt.imread(msk)\n",
    "  masks.append(temp)\n",
    "masks = np.array(masks)"
   ]
  },
  {
   "cell_type": "code",
   "execution_count": null,
   "metadata": {
    "colab": {},
    "colab_type": "code",
    "id": "Xs_an3eVysBP",
    "pycharm": {
     "is_executing": true
    }
   },
   "outputs": [],
   "source": [
    "def complex_to2channel(image): \n",
    "  real = tf.math.real(image)\n",
    "  imaginary = tf.math.imag(image)\n",
    "  real = tf.reshape(real , [256, 256, 1])\n",
    "  imag = tf.reshape(imaginary, [256, 256, 1]) \n",
    "  return tf.concat([real, real ,real], axis = -1).numpy()"
   ]
  },
  {
   "cell_type": "code",
   "execution_count": null,
   "metadata": {
    "colab": {},
    "colab_type": "code",
    "id": "oDcelV6gyums",
    "pycharm": {
     "is_executing": true
    }
   },
   "outputs": [],
   "source": [
    "def preprocess(image, masks): \n",
    "  mask = masks[np.random.randint(19, size = 1), : , :]\n",
    "  DEFAULT_MAKS_TF = tf.cast(tf.constant(mask[0]), tf.float32)\n",
    "  DEFAULT_MAKS_TF_c = tf.cast(DEFAULT_MAKS_TF, tf.complex64)\n",
    "  image = tf.cast(image, tf.float64)/255\n",
    "  kspace_input = tf.signal.fft2d(tf.cast(image, tf.complex64))\n",
    "  padded = kspace_input*DEFAULT_MAKS_TF_c\n",
    "  image_undersampled = tf.signal.ifft2d(padded)\n",
    "  image_unsampled = tf.signal.ifft2d(kspace_input)\n",
    "  label = complex_to2channel(image_unsampled)\n",
    "  feature = complex_to2channel(image_undersampled)\n",
    "  return label, feature"
   ]
  },
  {
   "cell_type": "code",
   "execution_count": null,
   "metadata": {
    "colab": {},
    "colab_type": "code",
    "id": "R7h3DiZ6YggR",
    "pycharm": {
     "is_executing": true
    }
   },
   "outputs": [],
   "source": [
    "def generate_images(model, test_input , labels):\n",
    "  test_input = np.expand_dims(test_input , axis = 0 )\n",
    "  labels = np.expand_dims(labels , axis = 0)\n",
    "  prediction = model.predict(test_input)\n",
    "    \n",
    "  plt.figure(figsize=(12, 12))\n",
    "\n",
    "  display_list = [test_input[0, : , :  , 0], prediction[ 0 , : , : , 0 ] , labels[ 0 , : , : , 0 ]]\n",
    "  title = ['Input Image', 'Predicted Image', 'Dataset_img']\n",
    "\n",
    "  for i in range(3):\n",
    "    plt.subplot(1, 3, i+1)\n",
    "    plt.title(title[i])\n",
    "    # getting the pixel values between [0, 1] to plot it.\n",
    "    plt.imshow(display_list[i] * 0.5 + 0.5 , cmap = 'gray')\n",
    "    plt.axis('off')\n",
    "  plt.show()"
   ]
  },
  {
   "cell_type": "code",
   "execution_count": null,
   "metadata": {
    "colab": {},
    "colab_type": "code",
    "id": "uctaV2bJThVr",
    "pycharm": {
     "is_executing": true
    }
   },
   "outputs": [],
   "source": [
    "def generate_test_images(model, test_input , labels):\n",
    "  test_input = np.expand_dims(test_input , axis = 0 )\n",
    "  labels = np.expand_dims(labels , axis = 0)\n",
    "  prediction = model.predict(test_input)\n",
    "    \n",
    "  plt.figure(figsize=(12, 12))\n",
    "\n",
    "  display_list = [ prediction[ 0 , : , : , 0 ] , labels[ 0 , : , : , 0 ]]\n",
    "  title = [ 'Predicted Image', 'Dataset_img']\n",
    "\n",
    "  for i in range(2):\n",
    "    plt.subplot(1, 2, i+1)\n",
    "    plt.title(title[i])\n",
    "    # getting the pixel values between [0, 1] to plot it.\n",
    "    plt.imshow(display_list[i] * 0.5 + 0.5 , cmap = 'gray')\n",
    "    plt.axis('off')\n",
    "  plt.show()"
   ]
  },
  {
   "cell_type": "code",
   "execution_count": null,
   "metadata": {
    "colab": {},
    "colab_type": "code",
    "id": "uPaotEpQPxCN",
    "pycharm": {
     "is_executing": true
    }
   },
   "outputs": [],
   "source": [
    "# j = 0 \n",
    "# for X, y in np.array(list(zip(np.array(features),np.array(labels)))):\n",
    "#   generate_images(g_model_AtoB,  X, y)\n",
    "#   if i == 70: \n",
    "#     break \n",
    "#   i+=1 "
   ]
  },
  {
   "cell_type": "code",
   "execution_count": null,
   "metadata": {
    "colab": {},
    "colab_type": "code",
    "id": "JI8MZQqoSyoP",
    "pycharm": {
     "is_executing": true
    }
   },
   "outputs": [],
   "source": [
    "from keras.models import load_model"
   ]
  },
  {
   "cell_type": "code",
   "execution_count": null,
   "metadata": {
    "colab": {
     "base_uri": "https://localhost:8080/",
     "height": 1000
    },
    "colab_type": "code",
    "id": "ncyvBgdaS-vc",
    "outputId": "0ea0f46e-e9e7-4220-e6d2-9a7b59970261",
    "pycharm": {
     "is_executing": true
    }
   },
   "outputs": [],
   "source": [
    "features = []\n",
    "labels = []\n",
    "dataset = []\n",
    "epochs = 10\n",
    "g_model_AtoB = load_model('/content/model_GANs.h5')\n",
    "files = glob.glob( \"/content/testdata/*\" )\n",
    "for epoch in range(0 , epochs):\n",
    "  start = time.time()\n",
    "\n",
    "\n",
    "  for i in range(0 , len(files)):\n",
    "    j = 0\n",
    "    if (i%5 == 1):\n",
    "      \n",
    "      dataset.append(features)\n",
    "      dataset.append(labels)\n",
    "      for X, y in np.array(list(zip(np.array(features),np.array(labels)))):\n",
    "        generate_test_images(g_model_AtoB,  X, y)\n",
    "        if j == 50: \n",
    "          break \n",
    "        j+=1 \n",
    "      \n",
    "      \n",
    "      del features, labels, dataset\n",
    "      features = []\n",
    "      labels = []\n",
    "      dataset = []\n",
    "\n",
    "    print(files[i])\n",
    "    ds = nib.load(files[i])\n",
    "    images = ds.get_data()\n",
    "    total_slices = images.shape[2]\n",
    "    for slices in range(0 , total_slices):\n",
    "      label , feature = preprocess(images[:, : , slices], masks)\n",
    "      labels.append(label)\n",
    "      features.append(feature)"
   ]
  },
  {
   "cell_type": "code",
   "execution_count": null,
   "metadata": {
    "colab": {},
    "colab_type": "code",
    "id": "Le85cz4SO7F2",
    "pycharm": {
     "is_executing": true
    }
   },
   "outputs": [],
   "source": []
  }
 ],
 "metadata": {
  "colab": {
   "collapsed_sections": [],
   "include_colab_link": true,
   "name": "CGAN_scratch_predict+regularisation.ipynb",
   "provenance": []
  },
  "kernelspec": {
   "display_name": "PyCharm (baysian4hackers)",
   "language": "python",
   "name": "pycharm-1f9cc95e"
  },
  "language_info": {
   "codemirror_mode": {
    "name": "ipython",
    "version": 3
   },
   "file_extension": ".py",
   "mimetype": "text/x-python",
   "name": "python",
   "nbconvert_exporter": "python",
   "pygments_lexer": "ipython3",
   "version": "3.8.3"
  }
 },
 "nbformat": 4,
 "nbformat_minor": 1
}
